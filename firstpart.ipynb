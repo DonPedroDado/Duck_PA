{
 "cells": [
  {
   "cell_type": "code",
   "execution_count": 9,
   "metadata": {},
   "outputs": [
    {
     "name": "stdout",
     "output_type": "stream",
     "text": [
      "Hello! I'm just a virtual assistant, so I don't have feelings, but I'm here and ready to help you with whatever you need. How can I assist you today? 😊\n"
     ]
    }
   ],
   "source": [
    "from ollama import chat\n",
    "from ollama import ChatResponse\n",
    "\n",
    "while True:\n",
    "    question_input = input(\"> \")\n",
    "\n",
    "    if question_input == \"/bye\":\n",
    "        break\n",
    "\n",
    "    response: ChatResponse = chat(model='deepseek-r1:1.5b', messages=[\n",
    "        {\n",
    "            'role': 'user',\n",
    "            'content': question_input,\n",
    "        },\n",
    "    ])\n",
    "    \n",
    "    clean_content = response['message']['content'].replace(\"<think>\", \"\").replace(\"</think>\", \"\").strip()\n",
    "    print(clean_content)\n"
   ]
  },
  {
   "cell_type": "code",
   "execution_count": null,
   "metadata": {},
   "outputs": [],
   "source": []
  }
 ],
 "metadata": {
  "kernelspec": {
   "display_name": "Python 3",
   "language": "python",
   "name": "python3"
  },
  "language_info": {
   "codemirror_mode": {
    "name": "ipython",
    "version": 3
   },
   "file_extension": ".py",
   "mimetype": "text/x-python",
   "name": "python",
   "nbconvert_exporter": "python",
   "pygments_lexer": "ipython3",
   "version": "3.12.1"
  }
 },
 "nbformat": 4,
 "nbformat_minor": 2
}
