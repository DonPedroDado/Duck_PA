{
 "cells": [
  {
   "cell_type": "code",
   "execution_count": null,
   "metadata": {},
   "outputs": [],
   "source": [
    "from ollama import chat\n",
    "from ollama import ChatResponse\n",
    "\n",
    "while True:\n",
    "    question_input = input(\"> \")\n",
    "\n",
    "    if question_input == \"/bye\":\n",
    "        break\n",
    "\n",
    "    response: ChatResponse = chat(model='deepseek-r1:1.5b', messages=[\n",
    "        {\n",
    "            'role': 'system',\n",
    "            'content': \"You are a math assistant focused on solving problems and proving mathematical theorems.\",\n",
    "        },\n",
    "        {\n",
    "            'role': 'user',\n",
    "            'content': question_input,\n",
    "        },\n",
    "    ])\n",
    "    \n",
    "    clean_content = response['message']['content'].replace(\"<think>\", \"\").replace(\"</think>\", \"\").strip()\n",
    "    print(clean_content)"
   ]
  }
 ],
 "metadata": {
  "kernelspec": {
   "display_name": "Python 3",
   "language": "python",
   "name": "python3"
  },
  "language_info": {
   "codemirror_mode": {
    "name": "ipython",
    "version": 3
   },
   "file_extension": ".py",
   "mimetype": "text/x-python",
   "name": "python",
   "nbconvert_exporter": "python",
   "pygments_lexer": "ipython3",
   "version": "3.11.5"
  }
 },
 "nbformat": 4,
 "nbformat_minor": 2
}
