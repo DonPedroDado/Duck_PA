{
 "cells": [
  {
   "cell_type": "code",
   "execution_count": 2,
   "metadata": {},
   "outputs": [],
   "source": [
    "from ollama import chat\n",
    "from ollama import ChatResponse\n",
    "import re"
   ]
  },
  {
   "cell_type": "code",
   "execution_count": 3,
   "metadata": {},
   "outputs": [
    {
     "ename": "TypeError",
     "evalue": "expected string or bytes-like object, got 'ChatResponse'",
     "output_type": "error",
     "traceback": [
      "\u001b[0;31m---------------------------------------------------------------------------\u001b[0m",
      "\u001b[0;31mTypeError\u001b[0m                                 Traceback (most recent call last)",
      "\u001b[1;32m/Users/donpedrodado/Documents/opt/Duck_PA/Duck_PA_NLP.ipynb Cell 2\u001b[0m line \u001b[0;36m1\n\u001b[1;32m      <a href='vscode-notebook-cell:/Users/donpedrodado/Documents/opt/Duck_PA/Duck_PA_NLP.ipynb#W1sZmlsZQ%3D%3D?line=4'>5</a>\u001b[0m     \u001b[39mbreak\u001b[39;00m\n\u001b[1;32m      <a href='vscode-notebook-cell:/Users/donpedrodado/Documents/opt/Duck_PA/Duck_PA_NLP.ipynb#W1sZmlsZQ%3D%3D?line=6'>7</a>\u001b[0m response: ChatResponse \u001b[39m=\u001b[39m chat(model\u001b[39m=\u001b[39m\u001b[39m'\u001b[39m\u001b[39mdeepseek-r1:1.5b\u001b[39m\u001b[39m'\u001b[39m, messages\u001b[39m=\u001b[39m[\n\u001b[1;32m      <a href='vscode-notebook-cell:/Users/donpedrodado/Documents/opt/Duck_PA/Duck_PA_NLP.ipynb#W1sZmlsZQ%3D%3D?line=7'>8</a>\u001b[0m     {\n\u001b[1;32m      <a href='vscode-notebook-cell:/Users/donpedrodado/Documents/opt/Duck_PA/Duck_PA_NLP.ipynb#W1sZmlsZQ%3D%3D?line=8'>9</a>\u001b[0m         \u001b[39m\"\u001b[39m\u001b[39mrole\u001b[39m\u001b[39m\"\u001b[39m: \u001b[39m\"\u001b[39m\u001b[39msystem\u001b[39m\u001b[39m\"\u001b[39m,\n\u001b[0;32m   (...)\u001b[0m\n\u001b[1;32m     <a href='vscode-notebook-cell:/Users/donpedrodado/Documents/opt/Duck_PA/Duck_PA_NLP.ipynb#W1sZmlsZQ%3D%3D?line=14'>15</a>\u001b[0m     },\n\u001b[1;32m     <a href='vscode-notebook-cell:/Users/donpedrodado/Documents/opt/Duck_PA/Duck_PA_NLP.ipynb#W1sZmlsZQ%3D%3D?line=15'>16</a>\u001b[0m ])\n\u001b[0;32m---> <a href='vscode-notebook-cell:/Users/donpedrodado/Documents/opt/Duck_PA/Duck_PA_NLP.ipynb#W1sZmlsZQ%3D%3D?line=17'>18</a>\u001b[0m cleaned_content \u001b[39m=\u001b[39m re\u001b[39m.\u001b[39;49msub(\u001b[39mr\u001b[39;49m\u001b[39m\"\u001b[39;49m\u001b[39m<think>.*?</think>\u001b[39;49m\u001b[39m\\\u001b[39;49m\u001b[39mn?\u001b[39;49m\u001b[39m\"\u001b[39;49m, \u001b[39m\"\u001b[39;49m\u001b[39m\"\u001b[39;49m,\n\u001b[1;32m     <a href='vscode-notebook-cell:/Users/donpedrodado/Documents/opt/Duck_PA/Duck_PA_NLP.ipynb#W1sZmlsZQ%3D%3D?line=18'>19</a>\u001b[0m response, flags\u001b[39m=\u001b[39;49mre\u001b[39m.\u001b[39;49mDOTALL)\n\u001b[1;32m     <a href='vscode-notebook-cell:/Users/donpedrodado/Documents/opt/Duck_PA/Duck_PA_NLP.ipynb#W1sZmlsZQ%3D%3D?line=20'>21</a>\u001b[0m \u001b[39mprint\u001b[39m(cleaned_content)\n",
      "File \u001b[0;32m/Library/Frameworks/Python.framework/Versions/3.11/lib/python3.11/re/__init__.py:185\u001b[0m, in \u001b[0;36msub\u001b[0;34m(pattern, repl, string, count, flags)\u001b[0m\n\u001b[1;32m    178\u001b[0m \u001b[39mdef\u001b[39;00m \u001b[39msub\u001b[39m(pattern, repl, string, count\u001b[39m=\u001b[39m\u001b[39m0\u001b[39m, flags\u001b[39m=\u001b[39m\u001b[39m0\u001b[39m):\n\u001b[1;32m    179\u001b[0m \u001b[39m    \u001b[39m\u001b[39m\"\"\"Return the string obtained by replacing the leftmost\u001b[39;00m\n\u001b[1;32m    180\u001b[0m \u001b[39m    non-overlapping occurrences of the pattern in string by the\u001b[39;00m\n\u001b[1;32m    181\u001b[0m \u001b[39m    replacement repl.  repl can be either a string or a callable;\u001b[39;00m\n\u001b[1;32m    182\u001b[0m \u001b[39m    if a string, backslash escapes in it are processed.  If it is\u001b[39;00m\n\u001b[1;32m    183\u001b[0m \u001b[39m    a callable, it's passed the Match object and must return\u001b[39;00m\n\u001b[1;32m    184\u001b[0m \u001b[39m    a replacement string to be used.\"\"\"\u001b[39;00m\n\u001b[0;32m--> 185\u001b[0m     \u001b[39mreturn\u001b[39;00m _compile(pattern, flags)\u001b[39m.\u001b[39;49msub(repl, string, count)\n",
      "\u001b[0;31mTypeError\u001b[0m: expected string or bytes-like object, got 'ChatResponse'"
     ]
    }
   ],
   "source": [
    "while True:\n",
    "    question_input = input(\"> \")\n",
    "\n",
    "    if question_input == \"/bye\":\n",
    "        break\n",
    "\n",
    "    response: ChatResponse = chat(model='deepseek-r1:1.5b', messages=[\n",
    "        {\n",
    "            \"role\": \"system\",\n",
    "            \"content\": \"You are an assistant that helps students with different topics. You must explain the topics in an easy way.\",\n",
    "        },\n",
    "        {\n",
    "            \"role\": \"user\",\n",
    "            \"content\": question_input,\n",
    "        },\n",
    "    ])\n",
    "    \n",
    "    cleaned_content = re.sub(r\"<think>.*?</think>\\n?\", \"\",\n",
    "    response, flags=re.DOTALL)\n",
    "\n",
    "    print(cleaned_content)"
   ]
  },
  {
   "cell_type": "code",
   "execution_count": null,
   "metadata": {},
   "outputs": [],
   "source": []
  }
 ],
 "metadata": {
  "kernelspec": {
   "display_name": "Python 3",
   "language": "python",
   "name": "python3"
  },
  "language_info": {
   "codemirror_mode": {
    "name": "ipython",
    "version": 3
   },
   "file_extension": ".py",
   "mimetype": "text/x-python",
   "name": "python",
   "nbconvert_exporter": "python",
   "pygments_lexer": "ipython3",
   "version": "3.11.5"
  }
 },
 "nbformat": 4,
 "nbformat_minor": 2
}
